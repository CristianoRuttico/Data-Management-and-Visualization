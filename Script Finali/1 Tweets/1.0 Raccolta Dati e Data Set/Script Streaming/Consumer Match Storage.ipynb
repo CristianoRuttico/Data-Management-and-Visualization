{
 "cells": [
  {
   "cell_type": "code",
   "execution_count": null,
   "metadata": {},
   "outputs": [],
   "source": [
    "## Consumer Match Storage\n",
    "\n",
    "#!/usr/bin/env python3\n",
    "# -*- coding: utf-8 -*-\n",
    "\n",
    "from kafka import KafkaConsumer\n",
    "import json\n",
    "from pprint import pprint\n",
    "from pymongo import MongoClient\n",
    "\n",
    "# We join (create) a consumer group for dynamic partition assignment and offset commits.\n",
    "# If we run multile consumers with the same group_id only one of them will\n",
    "# consume the message.\n",
    "# Also, we pass a lambda function as value deserializer.\n",
    "# This means the message we receive will be interpreted as a JSON value\n",
    "# using the lambda function.\n",
    "consumer = KafkaConsumer(\n",
    "  bootstrap_servers=[\"kafka:9092\"],\n",
    "  api_version=(0,11,5),\n",
    "  auto_offset_reset=\"latest\",\n",
    "  value_deserializer=lambda v: json.loads(v.decode(\"utf-8\")))\n",
    "\n",
    "# We subscribe to a topic\n",
    "consumer.subscribe([\"Match\"])\n",
    "\n",
    "#Connessione a mongo\n",
    "client = MongoClient('mongo', 27017, username='admin', password='DataMan2019!')\n",
    "#Creazione database\n",
    "mydb = client[\"Tweets\"]\n",
    "#Creazione collection\n",
    "mycol1 = mydb['Match']\n",
    "\n",
    "\n",
    "\n",
    "#for msg in consumer:\n",
    "#    print(msg.value)\n",
    "# We \"continuously stream\" from the consumer object\n",
    "#with open(\"./boreale.json\", \"a\") as file:\n",
    "#    for msg in consumer:\n",
    "#       data = msg.value\n",
    "#        json.dump(data, file)\n",
    "#       file.write(\"\\n\")\n",
    "        \n",
    "for msg in consumer:\n",
    "    data = msg.value\n",
    "    json.dumps(data)\n",
    "    mydb.mycol1.insert_one(data)\n",
    "   \n",
    "\n",
    "\n",
    "# NOW YOU HAVE TO STOP THE CELL IF YOU ARE USING THE NOTEBOOK OR PRESS CTRL + C\n",
    "# TO STOP THE CONSUMER\n",
    "\n"
   ]
  }
 ],
 "metadata": {
  "kernelspec": {
   "display_name": "Python 3",
   "language": "python",
   "name": "python3"
  },
  "language_info": {
   "codemirror_mode": {
    "name": "ipython",
    "version": 3
   },
   "file_extension": ".py",
   "mimetype": "text/x-python",
   "name": "python",
   "nbconvert_exporter": "python",
   "pygments_lexer": "ipython3",
   "version": "3.7.4"
  }
 },
 "nbformat": 4,
 "nbformat_minor": 2
}
